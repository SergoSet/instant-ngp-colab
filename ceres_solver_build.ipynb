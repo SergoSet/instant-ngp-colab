{
  "nbformat": 4,
  "nbformat_minor": 0,
  "metadata": {
    "colab": {
      "provenance": []
    },
    "kernelspec": {
      "name": "python3",
      "display_name": "Python 3"
    },
    "language_info": {
      "name": "python"
    },
    "gpuClass": "standard",
    "accelerator": "GPU"
  },
  "cells": [
    {
      "cell_type": "markdown",
      "metadata": {
        "id": "view-in-github"
      },
      "source": [
        "[![Open In Colab](https://colab.research.google.com/assets/colab-badge.svg)](https://colab.research.google.com/github/camenduru/instant-ngp-colab/blob/main/ceres_solver_build.ipynb)"
      ]
    },
    {
      "cell_type": "code",
      "execution_count": null,
      "metadata": {
        "id": "s8gPpObADw6C"
      },
      "outputs": [],
      "source": [
        "!apt-get install \\\n",
        "    cmake \\\n",
        "    libgoogle-glog-dev \\\n",
        "    libgflags-dev \\\n",
        "    libatlas-base-dev \\\n",
        "    libeigen3-dev \\\n",
        "    libsuitesparse-dev \\\n",
        "    libboost-program-options-dev \\\n",
        "    libboost-filesystem-dev \\\n",
        "    libboost-graph-dev \\\n",
        "    libboost-system-dev \\\n",
        "    libboost-test-dev \\\n",
        "    libfreeimage-dev \\\n",
        "    libmetis-dev \\\n",
        "    libglew-dev \\\n",
        "    qtbase5-dev \\\n",
        "    libqt5opengl5-dev \\\n",
        "    libcgal-dev\n",
        "    \n",
        "!wget http://ceres-solver.org/ceres-solver-2.1.0.tar.gz"
      ]
    },
    {
      "cell_type": "code",
      "source": [
        "%cd /content\n",
        "!tar zxf ceres-solver-2.1.0.tar.gz\n",
        "!mkdir ceres-bin\n",
        "%cd ceres-bin\n",
        "!cmake /content/ceres-solver-2.1.0 -DEXPORT_BUILD_DIR=ON -DBUILD_TESTING=OFF -DBUILD_EXAMPLES=OFF\n",
        "!make\n",
        "!make install"
      ],
      "metadata": {
        "id": "jShBqZHuETy6"
      },
      "execution_count": null,
      "outputs": []
    },
    {
      "cell_type": "code",
      "source": [
        "%cd /content\n",
        "!git clone https://github.com/colmap/colmap.git\n",
        "%cd colmap\n",
        "!git checkout dev\n",
        "!mkdir build\n",
        "%cd build\n",
        "!cmake ..\n",
        "!sudo make install"
      ],
      "metadata": {
        "id": "gpLzKAB3KWZt"
      },
      "execution_count": null,
      "outputs": []
    },
    {
      "cell_type": "code",
      "source": [
        "!pip install huggingface-hub\n",
        "from huggingface_hub import create_repo, upload_folder\n",
        "hf_token = \"\"\n",
        "repo_id = \"camenduru/ceres-solver\"\n",
        "create_repo(repo_id, private=True, token=hf_token)\n",
        "upload_folder(folder_path=\"/content/build\", path_in_repo=\"\", repo_id=repo_id, commit_message=f\"ceres-solver and colmap\", token=hf_token)"
      ],
      "metadata": {
        "id": "fSUzYEPGS6Bl"
      },
      "execution_count": null,
      "outputs": []
    },
    {
      "cell_type": "code",
      "source": [
        "%cd /content\n",
        "!wget https://github.com/camenduru/instant-ngp-colab/releases/download/v1.0/instant-ngp.zip\n",
        "!unzip /content/instant-ngp.zip -d instant-ngp\n",
        "\n",
        "!pip install commentjson\n",
        "%cd /content/instant-ngp\n",
        "import os"
      ],
      "metadata": {
        "id": "zelxRADpgkPb"
      },
      "execution_count": null,
      "outputs": []
    },
    {
      "cell_type": "code",
      "source": [
        "!python ./scripts/colmap2nerf.py --colmap_matcher exhaustive --run_colmap --aabb_scale 16 --images /content/drive/MyDrive/bird"
      ],
      "metadata": {
        "id": "GQCy-dDIhoga"
      },
      "execution_count": null,
      "outputs": []
    },
    {
      "cell_type": "code",
      "source": [
        "scene_path = \"/content/instant-ngp/data/nerf/bird\" #@param {type:\"string\"}\n",
        "if not os.path.isdir(scene_path):\n",
        "  raise NotADirectoryError(scene_path)\n",
        "\n",
        "train_steps = 2000  #@param {type:\"integer\"}\n",
        "snapshot_path = os.path.join(scene_path, f\"{train_steps}.msgpack\")\n",
        "!python ./scripts/run.py --scene {scene_path} --mode nerf --n_steps {train_steps} --save_snapshot {snapshot_path}"
      ],
      "metadata": {
        "cellView": "code",
        "id": "nAUKQGj8gxAf"
      },
      "execution_count": null,
      "outputs": []
    }
  ]
}
